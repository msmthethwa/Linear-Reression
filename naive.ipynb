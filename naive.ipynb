{
 "cells": [
  {
   "cell_type": "code",
   "execution_count": 1,
   "id": "ec346167-7209-4499-aae0-d49358b95a86",
   "metadata": {},
   "outputs": [],
   "source": [
    "import pandas as pd"
   ]
  },
  {
   "cell_type": "markdown",
   "id": "98d6701c-c45d-4c47-b7dc-fe4ed1262a07",
   "metadata": {},
   "source": [
    "Understand Dataset"
   ]
  },
  {
   "cell_type": "code",
   "execution_count": 2,
   "id": "1aa16d40-b9b5-4fb0-9507-1a1a653306e0",
   "metadata": {},
   "outputs": [],
   "source": [
    "df = pd.read_csv(r\"C:\\Users\\MS Mthethwa\\OneDrive\\Desktop\\MUT\\Programming (Year 2)\\TECHNICAL PROGRAMMING II\\motor_data11-14lats.csv\")"
   ]
  },
  {
   "cell_type": "code",
   "execution_count": 3,
   "id": "5b2b5f3f-8de7-47c3-bba1-ed6d111d22c0",
   "metadata": {},
   "outputs": [
    {
     "name": "stdout",
     "output_type": "stream",
     "text": [
      "        SEX INSR_BEGIN   INSR_END EFFECTIVE_YR  INSR_TYPE  INSURED_VALUE  \\\n",
      "0         0  08-AUG-13  07-AUG-14           08       1202      519755.22   \n",
      "1         0  08-AUG-12  07-AUG-13           08       1202      519755.22   \n",
      "2         0  08-AUG-11  07-AUG-12           08       1202      519755.22   \n",
      "3         0  08-JUL-11  07-AUG-11           08       1202      519755.22   \n",
      "4         0  08-AUG-13  07-AUG-14           08       1202      285451.24   \n",
      "...     ...        ...        ...          ...        ...            ...   \n",
      "293532    2  11-AUG-12  10-AUG-13           88       1201           0.00   \n",
      "293533    2  11-AUG-11  10-AUG-12           88       1201           0.00   \n",
      "293534    2  01-JUN-13  31-MAY-14           13       1201      250000.00   \n",
      "293535    0  08-JUL-12  07-JUL-13           85       1202           0.00   \n",
      "293536    0  08-JUL-11  07-JUL-12           85       1202           0.00   \n",
      "\n",
      "         PREMIUM   OBJECT_ID  PROD_YEAR  SEATS_NUM  CARRYING_CAPACITY  \\\n",
      "0       7209.140  5000029885     2007.0        4.0                6.0   \n",
      "1       7203.890  5000029885     2007.0        4.0                6.0   \n",
      "2       7045.804  5000029885     2007.0        4.0                6.0   \n",
      "3        287.250  5000029885     2007.0        4.0                6.0   \n",
      "4       4286.900  5000029901     2010.0        4.0                7.0   \n",
      "...          ...         ...        ...        ...                ...   \n",
      "293532   577.700  5000047311     1985.0        4.0                NaN   \n",
      "293533   695.318  5000047311     1985.0        4.0                NaN   \n",
      "293534  4778.450  5000949222     1993.0        4.0                NaN   \n",
      "293535  1057.427  5000049231     2017.0        2.0                0.0   \n",
      "293536  1001.537  5000049231     2017.0        2.0                0.0   \n",
      "\n",
      "       TYPE_VEHICLE  CCM_TON    MAKE            USAGE  CLAIM_PAID  \n",
      "0           Pick-up   3153.0  NISSAN        Own Goods         NaN  \n",
      "1           Pick-up   3153.0  NISSAN        Own Goods         NaN  \n",
      "2           Pick-up   3153.0  NISSAN        Own Goods         NaN  \n",
      "3           Pick-up   3153.0  NISSAN        Own Goods         NaN  \n",
      "4           Pick-up   2494.0  TOYOTA        Own Goods    19894.43  \n",
      "...             ...      ...     ...              ...         ...  \n",
      "293532   Automobile   1295.0  TOYOTA          Private         NaN  \n",
      "293533   Automobile   1295.0  TOYOTA          Private         NaN  \n",
      "293534   Automobile   1295.0  TOYOTA          Private         NaN  \n",
      "293535        Truck   4570.0   ISUZU  General Cartage         NaN  \n",
      "293536        Truck   4570.0   ISUZU  General Cartage         NaN  \n",
      "\n",
      "[293537 rows x 16 columns]\n"
     ]
    }
   ],
   "source": [
    "print(df)"
   ]
  },
  {
   "cell_type": "code",
   "execution_count": 4,
   "id": "ae0584b2-6e93-4b94-b125-9ed43735cd78",
   "metadata": {},
   "outputs": [
    {
     "name": "stdout",
     "output_type": "stream",
     "text": [
      "   SEX INSR_BEGIN   INSR_END EFFECTIVE_YR  INSR_TYPE  INSURED_VALUE   PREMIUM  \\\n",
      "0    0  08-AUG-13  07-AUG-14           08       1202      519755.22  7209.140   \n",
      "1    0  08-AUG-12  07-AUG-13           08       1202      519755.22  7203.890   \n",
      "2    0  08-AUG-11  07-AUG-12           08       1202      519755.22  7045.804   \n",
      "3    0  08-JUL-11  07-AUG-11           08       1202      519755.22   287.250   \n",
      "4    0  08-AUG-13  07-AUG-14           08       1202      285451.24  4286.900   \n",
      "\n",
      "    OBJECT_ID  PROD_YEAR  SEATS_NUM  CARRYING_CAPACITY TYPE_VEHICLE  CCM_TON  \\\n",
      "0  5000029885     2007.0        4.0                6.0      Pick-up   3153.0   \n",
      "1  5000029885     2007.0        4.0                6.0      Pick-up   3153.0   \n",
      "2  5000029885     2007.0        4.0                6.0      Pick-up   3153.0   \n",
      "3  5000029885     2007.0        4.0                6.0      Pick-up   3153.0   \n",
      "4  5000029901     2010.0        4.0                7.0      Pick-up   2494.0   \n",
      "\n",
      "     MAKE      USAGE  CLAIM_PAID  \n",
      "0  NISSAN  Own Goods         NaN  \n",
      "1  NISSAN  Own Goods         NaN  \n",
      "2  NISSAN  Own Goods         NaN  \n",
      "3  NISSAN  Own Goods         NaN  \n",
      "4  TOYOTA  Own Goods    19894.43  \n"
     ]
    }
   ],
   "source": [
    "print(df.head())"
   ]
  },
  {
   "cell_type": "code",
   "execution_count": 5,
   "id": "f0d4ab27-e41b-4f1f-871b-dffc31b3d74f",
   "metadata": {},
   "outputs": [
    {
     "name": "stdout",
     "output_type": "stream",
     "text": [
      "        SEX INSR_BEGIN   INSR_END EFFECTIVE_YR  INSR_TYPE  INSURED_VALUE  \\\n",
      "293532    2  11-AUG-12  10-AUG-13           88       1201            0.0   \n",
      "293533    2  11-AUG-11  10-AUG-12           88       1201            0.0   \n",
      "293534    2  01-JUN-13  31-MAY-14           13       1201       250000.0   \n",
      "293535    0  08-JUL-12  07-JUL-13           85       1202            0.0   \n",
      "293536    0  08-JUL-11  07-JUL-12           85       1202            0.0   \n",
      "\n",
      "         PREMIUM   OBJECT_ID  PROD_YEAR  SEATS_NUM  CARRYING_CAPACITY  \\\n",
      "293532   577.700  5000047311     1985.0        4.0                NaN   \n",
      "293533   695.318  5000047311     1985.0        4.0                NaN   \n",
      "293534  4778.450  5000949222     1993.0        4.0                NaN   \n",
      "293535  1057.427  5000049231     2017.0        2.0                0.0   \n",
      "293536  1001.537  5000049231     2017.0        2.0                0.0   \n",
      "\n",
      "       TYPE_VEHICLE  CCM_TON    MAKE            USAGE  CLAIM_PAID  \n",
      "293532   Automobile   1295.0  TOYOTA          Private         NaN  \n",
      "293533   Automobile   1295.0  TOYOTA          Private         NaN  \n",
      "293534   Automobile   1295.0  TOYOTA          Private         NaN  \n",
      "293535        Truck   4570.0   ISUZU  General Cartage         NaN  \n",
      "293536        Truck   4570.0   ISUZU  General Cartage         NaN  \n"
     ]
    }
   ],
   "source": [
    "print(df.tail())"
   ]
  },
  {
   "cell_type": "code",
   "execution_count": 8,
   "id": "2ad22b0a-0990-4c65-bc7c-40bdd658af10",
   "metadata": {},
   "outputs": [
    {
     "name": "stdout",
     "output_type": "stream",
     "text": [
      "Index(['SEX', 'INSR_BEGIN', 'INSR_END', 'EFFECTIVE_YR', 'INSR_TYPE',\n",
      "       'INSURED_VALUE', 'PREMIUM', 'OBJECT_ID', 'PROD_YEAR', 'SEATS_NUM',\n",
      "       'CARRYING_CAPACITY', 'TYPE_VEHICLE', 'CCM_TON', 'MAKE', 'USAGE',\n",
      "       'CLAIM_PAID'],\n",
      "      dtype='object')\n"
     ]
    }
   ],
   "source": [
    "print(df.columns)"
   ]
  }
 ],
 "metadata": {
  "kernelspec": {
   "display_name": "Python 3 (ipykernel)",
   "language": "python",
   "name": "python3"
  },
  "language_info": {
   "codemirror_mode": {
    "name": "ipython",
    "version": 3
   },
   "file_extension": ".py",
   "mimetype": "text/x-python",
   "name": "python",
   "nbconvert_exporter": "python",
   "pygments_lexer": "ipython3",
   "version": "3.12.4"
  }
 },
 "nbformat": 4,
 "nbformat_minor": 5
}
